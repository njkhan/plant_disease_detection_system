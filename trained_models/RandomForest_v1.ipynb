{
 "cells": [
  {
   "cell_type": "code",
   "execution_count": 1,
   "id": "a09bb600-4fd9-4ddd-b8c6-bfb854e61180",
   "metadata": {},
   "outputs": [
    {
     "name": "stderr",
     "output_type": "stream",
     "text": [
      "2025-03-04 00:54:03.680191: I tensorflow/core/platform/cpu_feature_guard.cc:210] This TensorFlow binary is optimized to use available CPU instructions in performance-critical operations.\n",
      "To enable the following instructions: AVX2 AVX512F AVX512_VNNI FMA, in other operations, rebuild TensorFlow with the appropriate compiler flags.\n"
     ]
    }
   ],
   "source": [
    "import os\n",
    "import numpy as np\n",
    "import matplotlib.pyplot as plt\n",
    "import seaborn as sns\n",
    "from sklearn.ensemble import RandomForestClassifier\n",
    "from sklearn.metrics import accuracy_score, classification_report, confusion_matrix\n",
    "from tensorflow.keras.preprocessing.image import ImageDataGenerator\n",
    "from tensorflow.keras.applications import ResNet50\n",
    "from tensorflow.keras.models import Model\n",
    "from tensorflow.keras.layers import GlobalAveragePooling2D"
   ]
  },
  {
   "cell_type": "code",
   "execution_count": 3,
   "id": "d85b4889-9dff-4fc5-9ed8-d63ef1b0cfdc",
   "metadata": {},
   "outputs": [],
   "source": [
    "# Load and preprocess data (training, validation, and test sets)\n",
    "train_dir = \"/Users/nasrinjahan/Desktop/Indivisual Project/Project_NK/machineLearning_PlantDiseaseDetectionSystem/Plant_Diseases_Dataset/train\"\n",
    "valid_dir = \"/Users/nasrinjahan/Desktop/Indivisual Project/Project_NK/machineLearning_PlantDiseaseDetectionSystem/Plant_Diseases_Dataset/valid\"\n",
    "test_dir = \"/Users/nasrinjahan/Desktop/Indivisual Project/Project_NK/machineLearning_PlantDiseaseDetectionSystem/Plant_Diseases_Dataset/test\""
   ]
  },
  {
   "cell_type": "code",
   "execution_count": 5,
   "id": "28d6cc9c-776f-447d-8bcd-5305bdae6790",
   "metadata": {},
   "outputs": [],
   "source": [
    "# Image size and batch size\n",
    "img_size = (128, 128)\n",
    "batch_size = 32"
   ]
  },
  {
   "cell_type": "code",
   "execution_count": 7,
   "id": "82555dbd-363e-438f-9a0a-63ec460f8dd8",
   "metadata": {},
   "outputs": [],
   "source": [
    "# Image preprocessing and augmentation\n",
    "datagen = ImageDataGenerator(rescale=1.0/255.0)"
   ]
  },
  {
   "cell_type": "code",
   "execution_count": 9,
   "id": "ab1bd57b-46c1-4f2b-b1b7-c7698d7981e6",
   "metadata": {},
   "outputs": [
    {
     "name": "stdout",
     "output_type": "stream",
     "text": [
      "Found 70295 images belonging to 38 classes.\n",
      "Found 33 images belonging to 1 classes.\n",
      "Found 17572 images belonging to 38 classes.\n"
     ]
    }
   ],
   "source": [
    "train_generator = datagen.flow_from_directory(train_dir, target_size=img_size, batch_size=batch_size, class_mode='sparse')\n",
    "test_generator = datagen.flow_from_directory(test_dir, target_size=img_size, batch_size=batch_size, class_mode='sparse', shuffle=False)\n",
    "valid_generator = datagen.flow_from_directory(valid_dir, target_size=img_size, batch_size=batch_size, class_mode='sparse', shuffle=False)"
   ]
  },
  {
   "cell_type": "code",
   "execution_count": 11,
   "id": "65466e84-fc8d-4d32-8dbe-5a1726bd6338",
   "metadata": {},
   "outputs": [],
   "source": [
    "# Extract class names\n",
    "class_names = list(train_generator.class_indices.keys())"
   ]
  },
  {
   "cell_type": "code",
   "execution_count": 13,
   "id": "5d9e307e-084e-4b4b-bfd9-3cc8f88b237b",
   "metadata": {},
   "outputs": [
    {
     "name": "stdout",
     "output_type": "stream",
     "text": [
      "Downloading data from https://storage.googleapis.com/tensorflow/keras-applications/resnet/resnet50_weights_tf_dim_ordering_tf_kernels_notop.h5\n",
      "\u001b[1m94765736/94765736\u001b[0m \u001b[32m━━━━━━━━━━━━━━━━━━━━\u001b[0m\u001b[37m\u001b[0m \u001b[1m6s\u001b[0m 0us/step\n"
     ]
    }
   ],
   "source": [
    "# Load a pre-trained CNN (ResNet50) for feature extraction\n",
    "base_model = ResNet50(weights='imagenet', include_top=False, input_shape=(128, 128, 3))\n",
    "base_model.trainable = False  # Freeze layers"
   ]
  },
  {
   "cell_type": "code",
   "execution_count": 15,
   "id": "9db144fb-b50e-40c3-9ad7-281fbe5742eb",
   "metadata": {},
   "outputs": [],
   "source": [
    "# Add a global pooling layer\n",
    "model = Model(inputs=base_model.input, outputs=GlobalAveragePooling2D()(base_model.output))"
   ]
  },
  {
   "cell_type": "code",
   "execution_count": 17,
   "id": "ab0de706-7abc-4d15-acdf-edd23674b292",
   "metadata": {},
   "outputs": [
    {
     "name": "stderr",
     "output_type": "stream",
     "text": [
      "/opt/anaconda3/lib/python3.12/site-packages/keras/src/trainers/data_adapters/py_dataset_adapter.py:121: UserWarning: Your `PyDataset` class should call `super().__init__(**kwargs)` in its constructor. `**kwargs` can include `workers`, `use_multiprocessing`, `max_queue_size`. Do not pass these arguments to `fit()`, as they will be ignored.\n",
      "  self._warn_if_super_not_called()\n"
     ]
    },
    {
     "name": "stdout",
     "output_type": "stream",
     "text": [
      "\u001b[1m2197/2197\u001b[0m \u001b[32m━━━━━━━━━━━━━━━━━━━━\u001b[0m\u001b[37m\u001b[0m \u001b[1m1331s\u001b[0m 605ms/step\n",
      "\u001b[1m2/2\u001b[0m \u001b[32m━━━━━━━━━━━━━━━━━━━━\u001b[0m\u001b[37m\u001b[0m \u001b[1m1s\u001b[0m 47ms/step \n",
      "\u001b[1m550/550\u001b[0m \u001b[32m━━━━━━━━━━━━━━━━━━━━\u001b[0m\u001b[37m\u001b[0m \u001b[1m434s\u001b[0m 789ms/step\n"
     ]
    }
   ],
   "source": [
    "# Extract features\n",
    "X_train = model.predict(train_generator)\n",
    "y_train = train_generator.classes\n",
    "\n",
    "X_test = model.predict(test_generator)\n",
    "y_test = test_generator.classes\n",
    "\n",
    "X_valid = model.predict(valid_generator)\n",
    "y_valid = valid_generator.classes"
   ]
  },
  {
   "cell_type": "code",
   "execution_count": null,
   "id": "82ffcfb7-69b0-4c84-9893-84f1aabb69ba",
   "metadata": {},
   "outputs": [],
   "source": [
    "# Train Random Forest Classifier\n",
    "rf_model = RandomForestClassifier(n_estimators=100, random_state=42)\n",
    "rf_model.fit(X_train, y_train)"
   ]
  },
  {
   "cell_type": "code",
   "execution_count": null,
   "id": "3f7055e4-9cc1-4185-9c31-12c14e94cfa9",
   "metadata": {},
   "outputs": [],
   "source": [
    "# Predictions\n",
    "y_pred = rf_model.predict(X_test)\n",
    "test_acc = accuracy_score(y_test, y_pred)"
   ]
  },
  {
   "cell_type": "code",
   "execution_count": null,
   "id": "2ed12e87-9463-4a94-93f0-74eb5ef8c0d0",
   "metadata": {},
   "outputs": [],
   "source": [
    "# Classification Report\n",
    "print(\"Test Accuracy:\", test_acc)\n",
    "print(\"Classification Report:\\n\", classification_report(y_test, y_pred, target_names=class_names))"
   ]
  },
  {
   "cell_type": "code",
   "execution_count": null,
   "id": "067471a6-baaa-401f-9a74-770ab2d2d4a6",
   "metadata": {},
   "outputs": [],
   "source": [
    "# Confusion Matrix\n",
    "conf_matrix = confusion_matrix(y_test, y_pred)"
   ]
  },
  {
   "cell_type": "code",
   "execution_count": null,
   "id": "8fa20494-05c0-4d1f-98a1-bdab1b26c3aa",
   "metadata": {},
   "outputs": [],
   "source": [
    "# Plot Confusion Matrix\n",
    "plt.figure(figsize=(10, 8))\n",
    "sns.heatmap(conf_matrix, annot=False, cmap=\"Blues\", xticklabels=class_names, yticklabels=class_names)\n",
    "plt.xlabel(\"Predicted\")\n",
    "plt.ylabel(\"Actual\")\n",
    "plt.title(\"Confusion Matrix\")\n",
    "plt.show()"
   ]
  },
  {
   "cell_type": "code",
   "execution_count": null,
   "id": "63550f5d-2759-4fdf-b7b1-1c1cc6200bfe",
   "metadata": {},
   "outputs": [],
   "source": [
    "# Feature Importance Visualization\n",
    "feature_importances = rf_model.feature_importances_\n",
    "plt.figure(figsize=(12, 6))\n",
    "plt.bar(range(len(feature_importances)), feature_importances)\n",
    "plt.xlabel(\"Feature Index\")\n",
    "plt.ylabel(\"Importance Score\")\n",
    "plt.title(\"Feature Importances from Random Forest\")\n",
    "plt.show()"
   ]
  }
 ],
 "metadata": {
  "kernelspec": {
   "display_name": "Python 3 (ipykernel)",
   "language": "python",
   "name": "python3"
  },
  "language_info": {
   "codemirror_mode": {
    "name": "ipython",
    "version": 3
   },
   "file_extension": ".py",
   "mimetype": "text/x-python",
   "name": "python",
   "nbconvert_exporter": "python",
   "pygments_lexer": "ipython3",
   "version": "3.12.4"
  }
 },
 "nbformat": 4,
 "nbformat_minor": 5
}
